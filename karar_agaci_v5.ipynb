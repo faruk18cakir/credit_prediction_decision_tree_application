{
 "cells": [
  {
   "cell_type": "code",
   "execution_count": 1,
   "id": "e0887d37",
   "metadata": {},
   "outputs": [],
   "source": [
    "import random\n",
    "import csv\n",
    "import pandas as pd\n",
    "import numpy as np"
   ]
  },
  {
   "cell_type": "code",
   "execution_count": 2,
   "id": "958809b5",
   "metadata": {},
   "outputs": [],
   "source": [
    "# train seti için kurallar oluşturuluyor ve rastgele bir train seti oluşturuluyor\n",
    "def random_veri_uretme(sat_say):\n",
    "    yas = list(range(18, 66))\n",
    "    cinsiyet = [0, 1]\n",
    "    saglik = [0, 1]\n",
    "    is_durumu = list(range(0, 4))\n",
    "    ek_gelir = list(range(0, 3))\n",
    "    maas = list(range(0, 1501))\n",
    "    borc = [0, 1]\n",
    "    miras = [0, 1]\n",
    "    ev = [0, 1]\n",
    "    araba = [0, 1]\n",
    "    kredi = [0, 1]\n",
    "\n",
    "    with open('train.csv', mode=\"w\", newline='') as dosyam:\n",
    "        yazici = csv.writer(dosyam)\n",
    "        yazici.writerow([\"Yas\", \"Cinsiyet\", \"Saglik\", \"Is Durumu\", \"Ek Gelir\", \"Maas\", \"Borc\", \"Miras\", \"Ev\", \"Araba\", \"Kredi\"])\n",
    "\n",
    "        tum_veriler = []\n",
    "        for i in range(sat_say):\n",
    "            yas_secim = random.choice(yas)\n",
    "            cinsiyet_secim = random.choice(cinsiyet)\n",
    "            saglik_secim = random.choice(saglik)\n",
    "            is_durumu_secim = random.choice(is_durumu)\n",
    "            ek_gelir_secim = random.choice(ek_gelir)\n",
    "            maas_secim = random.choice(maas)\n",
    "            borc_secim = random.choice(borc)\n",
    "            miras_secim = random.choice(miras)\n",
    "            ev_secim = random.choice(ev)\n",
    "            araba_secim = random.choice(araba)\n",
    "            kredi_secim = random.choice(kredi)\n",
    "\n",
    "            veri_listesi = [yas_secim, cinsiyet_secim, saglik_secim, is_durumu_secim, ek_gelir_secim, maas_secim,\n",
    "                            borc_secim, miras_secim, ev_secim, araba_secim, kredi_secim]\n",
    "            tum_veriler.append(veri_listesi)\n",
    "\n",
    "        yazici.writerows(tum_veriler)\n",
    "\n",
    "    print(\"Veri dosyası başarıyla oluşturuldu.\")"
   ]
  },
  {
   "cell_type": "code",
   "execution_count": 3,
   "id": "00c17450",
   "metadata": {},
   "outputs": [
    {
     "name": "stdout",
     "output_type": "stream",
     "text": [
      "Kaç satır veri üretmek istiyorsunuz? 600\n",
      "Veri dosyası başarıyla oluşturuldu.\n"
     ]
    }
   ],
   "source": [
    "# Kullaınıcı kendince bir train seti sayısı belirliyor\n",
    "satir_sayisi = int(input(\"Kaç satır veri üretmek istiyorsunuz? \"))\n",
    "random_veri_uretme(satir_sayisi)"
   ]
  },
  {
   "cell_type": "code",
   "execution_count": 4,
   "id": "5f07fd26",
   "metadata": {},
   "outputs": [
    {
     "data": {
      "text/html": [
       "<div>\n",
       "<style scoped>\n",
       "    .dataframe tbody tr th:only-of-type {\n",
       "        vertical-align: middle;\n",
       "    }\n",
       "\n",
       "    .dataframe tbody tr th {\n",
       "        vertical-align: top;\n",
       "    }\n",
       "\n",
       "    .dataframe thead th {\n",
       "        text-align: right;\n",
       "    }\n",
       "</style>\n",
       "<table border=\"1\" class=\"dataframe\">\n",
       "  <thead>\n",
       "    <tr style=\"text-align: right;\">\n",
       "      <th></th>\n",
       "      <th>Yas</th>\n",
       "      <th>Cinsiyet</th>\n",
       "      <th>Saglik</th>\n",
       "      <th>Is Durumu</th>\n",
       "      <th>Ek Gelir</th>\n",
       "      <th>Maas</th>\n",
       "      <th>Borc</th>\n",
       "      <th>Miras</th>\n",
       "      <th>Ev</th>\n",
       "      <th>Araba</th>\n",
       "      <th>Kredi</th>\n",
       "    </tr>\n",
       "  </thead>\n",
       "  <tbody>\n",
       "    <tr>\n",
       "      <th>0</th>\n",
       "      <td>29</td>\n",
       "      <td>1</td>\n",
       "      <td>1</td>\n",
       "      <td>2</td>\n",
       "      <td>1</td>\n",
       "      <td>1317</td>\n",
       "      <td>0</td>\n",
       "      <td>1</td>\n",
       "      <td>0</td>\n",
       "      <td>1</td>\n",
       "      <td>1</td>\n",
       "    </tr>\n",
       "    <tr>\n",
       "      <th>1</th>\n",
       "      <td>33</td>\n",
       "      <td>0</td>\n",
       "      <td>1</td>\n",
       "      <td>1</td>\n",
       "      <td>0</td>\n",
       "      <td>743</td>\n",
       "      <td>1</td>\n",
       "      <td>0</td>\n",
       "      <td>1</td>\n",
       "      <td>0</td>\n",
       "      <td>1</td>\n",
       "    </tr>\n",
       "    <tr>\n",
       "      <th>2</th>\n",
       "      <td>43</td>\n",
       "      <td>1</td>\n",
       "      <td>1</td>\n",
       "      <td>1</td>\n",
       "      <td>1</td>\n",
       "      <td>624</td>\n",
       "      <td>1</td>\n",
       "      <td>0</td>\n",
       "      <td>1</td>\n",
       "      <td>1</td>\n",
       "      <td>0</td>\n",
       "    </tr>\n",
       "    <tr>\n",
       "      <th>3</th>\n",
       "      <td>50</td>\n",
       "      <td>0</td>\n",
       "      <td>1</td>\n",
       "      <td>0</td>\n",
       "      <td>0</td>\n",
       "      <td>421</td>\n",
       "      <td>0</td>\n",
       "      <td>1</td>\n",
       "      <td>1</td>\n",
       "      <td>1</td>\n",
       "      <td>1</td>\n",
       "    </tr>\n",
       "    <tr>\n",
       "      <th>4</th>\n",
       "      <td>53</td>\n",
       "      <td>0</td>\n",
       "      <td>1</td>\n",
       "      <td>1</td>\n",
       "      <td>1</td>\n",
       "      <td>1197</td>\n",
       "      <td>1</td>\n",
       "      <td>0</td>\n",
       "      <td>1</td>\n",
       "      <td>1</td>\n",
       "      <td>1</td>\n",
       "    </tr>\n",
       "  </tbody>\n",
       "</table>\n",
       "</div>"
      ],
      "text/plain": [
       "   Yas  Cinsiyet  Saglik  Is Durumu  Ek Gelir  Maas  Borc  Miras  Ev  Araba  \\\n",
       "0   29         1       1          2         1  1317     0      1   0      1   \n",
       "1   33         0       1          1         0   743     1      0   1      0   \n",
       "2   43         1       1          1         1   624     1      0   1      1   \n",
       "3   50         0       1          0         0   421     0      1   1      1   \n",
       "4   53         0       1          1         1  1197     1      0   1      1   \n",
       "\n",
       "   Kredi  \n",
       "0      1  \n",
       "1      1  \n",
       "2      0  \n",
       "3      1  \n",
       "4      1  "
      ]
     },
     "execution_count": 4,
     "metadata": {},
     "output_type": "execute_result"
    }
   ],
   "source": [
    "df = pd.read_csv('train.csv')\n",
    "df.head()"
   ]
  },
  {
   "cell_type": "code",
   "execution_count": 5,
   "id": "4e24bbf7",
   "metadata": {},
   "outputs": [
    {
     "name": "stdout",
     "output_type": "stream",
     "text": [
      "Index(['Yas', 'Cinsiyet', 'Saglik', 'Is Durumu', 'Ek Gelir', 'Maas', 'Borc',\n",
      "       'Miras', 'Ev', 'Araba', 'Kredi'],\n",
      "      dtype='object')\n"
     ]
    }
   ],
   "source": [
    "print(df.columns)"
   ]
  },
  {
   "cell_type": "code",
   "execution_count": 6,
   "id": "9e70e989",
   "metadata": {},
   "outputs": [],
   "source": [
    "# Gini impurity hesaplaması yapılıyor\n",
    "def calculate_gini(y):\n",
    "    p1 = sum(y) / len(y)\n",
    "    p0 = 1 - p1\n",
    "    gini = 1 - (p0**2 + p1**2)\n",
    "    return gini"
   ]
  },
  {
   "cell_type": "code",
   "execution_count": 7,
   "id": "24ae30e1",
   "metadata": {},
   "outputs": [],
   "source": [
    "# Veriler bölünüyor ve verilerde en iyi özellik seçiliyor\n",
    "def find_best_split(data, target_column):\n",
    "    features = data.columns.difference([target_column])\n",
    "    best_gini = float('inf')\n",
    "    best_feature = None\n",
    "    best_threshold = None\n",
    "\n",
    "    for feature in features:\n",
    "        thresholds = data[feature].unique()\n",
    "        for threshold in thresholds:\n",
    "            left_indices = data[data[feature] <= threshold].index\n",
    "            right_indices = data[data[feature] > threshold].index\n",
    "\n",
    "            if len(left_indices) == 0 or len(right_indices) == 0:\n",
    "                # Alt küme boşsa işlem atlanıyor\n",
    "                continue\n",
    "\n",
    "            left_gini = calculate_gini(data.loc[left_indices, target_column])\n",
    "            right_gini = calculate_gini(data.loc[right_indices, target_column])\n",
    "\n",
    "            gini = (len(left_indices) * left_gini + len(right_indices) * right_gini) / len(data)\n",
    "\n",
    "            if gini < best_gini:\n",
    "                best_gini = gini\n",
    "                best_feature = feature\n",
    "                best_threshold = threshold\n",
    "\n",
    "    return best_feature, best_threshold"
   ]
  },
  {
   "cell_type": "code",
   "execution_count": 8,
   "id": "0c5fc799",
   "metadata": {},
   "outputs": [],
   "source": [
    "# Karar ağacını oluşturuluyor\n",
    "def build_decision_tree(data, target_column):\n",
    "    # Veri setindeki tek bir sınıf varsa ya da veri seti boşsa\n",
    "    if len(data[target_column].unique()) == 1 or len(data) == 0:\n",
    "        return {'prediction': data[target_column].mode().iloc[0]}\n",
    "\n",
    "    # En iyi özellik ve eşik değeri bulunuyor\n",
    "    best_feature, best_threshold = find_best_split(data, target_column)\n",
    "\n",
    "    # En iyi özellik ve eşik değeriyle veri bölünüyor\n",
    "    left_data = data[data[best_feature] <= best_threshold]\n",
    "    right_data = data[data[best_feature] > best_threshold]\n",
    "\n",
    "    # Yeni düğümler oluşturuluyor\n",
    "    decision_tree = {\n",
    "        'feature': best_feature,\n",
    "        'threshold': best_threshold,\n",
    "        'left': build_decision_tree(left_data, target_column),\n",
    "        'right': build_decision_tree(right_data, target_column)\n",
    "    }\n",
    "\n",
    "    return decision_tree"
   ]
  },
  {
   "cell_type": "code",
   "execution_count": 9,
   "id": "0a38ba88",
   "metadata": {},
   "outputs": [],
   "source": [
    "# Karar ağacını oluşturuluyor\n",
    "target_column = 'Kredi'  # Tahmin yapılacak hedef sütun belirleniyor\n",
    "decision_tree = build_decision_tree(df, target_column)"
   ]
  },
  {
   "cell_type": "code",
   "execution_count": 10,
   "id": "e20ab2a3",
   "metadata": {},
   "outputs": [],
   "source": [
    "# test veriler için test.csv seti yükleniyor\n",
    "test_file_path = 'test.csv'\n",
    "test_df = pd.read_csv(test_file_path, encoding='ISO-8859-1')"
   ]
  },
  {
   "cell_type": "code",
   "execution_count": 11,
   "id": "14ea9659",
   "metadata": {},
   "outputs": [
    {
     "name": "stdout",
     "output_type": "stream",
     "text": [
      "Test Verileri:\n",
      "   Yas  Cinsiyet  Saglik  Is Durumu  Ek Gelir  Maas  Borc  Miras  Ev  Araba\n",
      "0   24         0       0          3         1  1000     1      1   1      0\n",
      "1   38         1       1          1         0   500     0      1   0      1\n",
      "2   34         1       0          0         2     0     0      0   1      1\n",
      "3   44         0       1          1         2   150     1      0   1      1\n",
      "4   23         0       1          3         0   100     0      0   0      1\n",
      "5   56         0       0          0         1   900     1      1   1      0\n",
      "6   45         1       0          2         2     0     1      0   1      0\n",
      "7   60         1       1          2         0   850     0      1   0      1\n",
      "8   71         1       0          2         1   700     0      0   1      1\n",
      "9   18         1       0          3         2   420     1      0   1      0\n"
     ]
    }
   ],
   "source": [
    "# test verileri gösteriliyor\n",
    "print(\"Test Verileri:\")\n",
    "print(test_df)"
   ]
  },
  {
   "cell_type": "code",
   "execution_count": 12,
   "id": "1f10c001",
   "metadata": {},
   "outputs": [],
   "source": [
    "# Karar ağacında tahmin yapılıyor\n",
    "def predict_tree(tree, sample):\n",
    "    if 'prediction' in tree:\n",
    "        return tree['prediction']\n",
    "\n",
    "    if sample[tree['feature']] <= tree['threshold']:\n",
    "        return predict_tree(tree['left'], sample)\n",
    "    else:\n",
    "        return predict_tree(tree['right'], sample)"
   ]
  },
  {
   "cell_type": "code",
   "execution_count": 13,
   "id": "46f59abd",
   "metadata": {},
   "outputs": [
    {
     "name": "stdout",
     "output_type": "stream",
     "text": [
      "\n",
      "Test için kredi tahmini:\n",
      "   Yas  Cinsiyet  Saglik  Is Durumu  Ek Gelir  Maas  Borc  Miras  Ev  Araba  \\\n",
      "0   24         0       0          3         1  1000     1      1   1      0   \n",
      "1   38         1       1          1         0   500     0      1   0      1   \n",
      "2   34         1       0          0         2     0     0      0   1      1   \n",
      "3   44         0       1          1         2   150     1      0   1      1   \n",
      "4   23         0       1          3         0   100     0      0   0      1   \n",
      "5   56         0       0          0         1   900     1      1   1      0   \n",
      "6   45         1       0          2         2     0     1      0   1      0   \n",
      "7   60         1       1          2         0   850     0      1   0      1   \n",
      "8   71         1       0          2         1   700     0      0   1      1   \n",
      "9   18         1       0          3         2   420     1      0   1      0   \n",
      "\n",
      "   Kredi  \n",
      "0      1  \n",
      "1      0  \n",
      "2      0  \n",
      "3      0  \n",
      "4      1  \n",
      "5      1  \n",
      "6      0  \n",
      "7      0  \n",
      "8      0  \n",
      "9      0  \n"
     ]
    }
   ],
   "source": [
    "# Her satır için tahmin yapılıyor\n",
    "predictions = []\n",
    "for index, row in test_df.iterrows():\n",
    "    sample_data = row.to_dict()\n",
    "    prediction = predict_tree(decision_tree, sample_data)\n",
    "    predictions.append(prediction)\n",
    "\n",
    "# Tahminleri \"Kredi\" adlı yeni bir sütun olarak \"test_df\" DataFrame'e ekleniyor\n",
    "test_df['Kredi'] = predictions\n",
    "\n",
    "# \"test.csv\" dosyasına tahminleri içeren yeni sütunu ekleniyor\n",
    "test_df.to_csv('test_predictions.csv', index=False)\n",
    "\n",
    "# Yeni sütunu içeren DataFrame'i ekrana yazdırılıyor\n",
    "print(\"\\nTest için kredi tahmini:\")\n",
    "print(test_df)"
   ]
  },
  {
   "cell_type": "code",
   "execution_count": null,
   "id": "ef38557c",
   "metadata": {},
   "outputs": [],
   "source": [
    "#Test Dosyası oluşturulmadan, elle test verisi girildiğinde"
   ]
  },
  {
   "cell_type": "code",
   "execution_count": 14,
   "id": "8f3bf07d",
   "metadata": {},
   "outputs": [],
   "source": [
    "def predict(tree, sample):\n",
    "    if 'prediction' in tree:\n",
    "        return tree['prediction']\n",
    "    \n",
    "    if sample[tree['feature']] <= tree['threshold']:\n",
    "        return predict(tree['left'], sample)\n",
    "    else:\n",
    "        return predict(tree['right'], sample)"
   ]
  },
  {
   "cell_type": "code",
   "execution_count": 15,
   "id": "092d29f2",
   "metadata": {},
   "outputs": [
    {
     "name": "stdout",
     "output_type": "stream",
     "text": [
      "Kredi Tahmini: 0\n"
     ]
    }
   ],
   "source": [
    "sample_data = {'Yas': 25, 'Cinsiyet': 0, 'Saglik': 1, 'Is Durumu': 0, 'Ek Gelir': 0,\n",
    "               'Maas': 1200, 'Borc': 0, 'Miras': 1, 'Ev': 0, 'Araba': 1}\n",
    "\n",
    "# Örnek veri içindeki özellik adlarını karar ağacı modeli tarafından kullanılan adlarla doğrudan eşleştiriliyor\n",
    "sample_data_for_prediction = {'Yas': sample_data['Yas'], 'Cinsiyet': sample_data['Cinsiyet'],\n",
    "                               'Saglik': sample_data['Saglik'], 'Is Durumu': sample_data['Is Durumu'],\n",
    "                               'Ek Gelir': sample_data['Ek Gelir'], 'Maas': sample_data['Maas'],\n",
    "                               'Borc': sample_data['Borc'], 'Miras': sample_data['Miras'],\n",
    "                               'Ev': sample_data['Ev'], 'Araba': sample_data['Araba']}\n",
    "\n",
    "prediction = predict(decision_tree, sample_data_for_prediction)\n",
    "print(f'Kredi Tahmini: {prediction}')"
   ]
  }
 ],
 "metadata": {
  "kernelspec": {
   "display_name": "Python 3 (ipykernel)",
   "language": "python",
   "name": "python3"
  },
  "language_info": {
   "codemirror_mode": {
    "name": "ipython",
    "version": 3
   },
   "file_extension": ".py",
   "mimetype": "text/x-python",
   "name": "python",
   "nbconvert_exporter": "python",
   "pygments_lexer": "ipython3",
   "version": "3.9.13"
  }
 },
 "nbformat": 4,
 "nbformat_minor": 5
}
